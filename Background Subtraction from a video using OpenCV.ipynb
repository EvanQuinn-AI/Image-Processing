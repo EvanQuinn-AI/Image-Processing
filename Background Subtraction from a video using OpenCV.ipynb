{
 "cells": [
  {
   "cell_type": "code",
   "execution_count": null,
   "id": "2ba53ab8",
   "metadata": {},
   "outputs": [],
   "source": [
    "#Background Subtraction is a way to access the foreground objects.\n",
    "#Technically, you need to extract the moving \n",
    "#foreground from static background.\n",
    "#There are multiple approach for backgroud subtract\n",
    "\n",
    "#We discuss all of them.\n",
    "\n",
    "import numpy as np\n",
    "import cv2 as cv\n",
    "cap = cv.VideoCapture('Data\\\\test2.mp4')\n",
    "\n",
    "\n",
    "#old_algo = cv.bgsegm.createBackgroundSubtractorMOG()\n",
    "algo1 = cv.createBackgroundSubtractorMOG2(detectShadows=True) #algo1 \n",
    "algo2 = cv.createBackgroundSubtractorKNN(detectShadows=True)  #algo2\n",
    "while True:\n",
    "    ret, frame = cap.read()\n",
    "    frame = cv.resize(frame,(600,400))\n",
    "    if frame is None:\n",
    "        break\n",
    "    res1 = algo1.apply(frame)\n",
    "    res2 = algo2.apply(frame)\n",
    "    \n",
    "\n",
    "    cv.imshow('original', frame)\n",
    "    cv.imshow('res1',res1)\n",
    "    cv.imshow('res2',res2)\n",
    "\n",
    "    keyboard = cv.waitKey(60)\n",
    "    if keyboard == 'q' or keyboard == 27:\n",
    "        break\n",
    "cap.release()\n",
    "cv.destroyAllWindows()"
   ]
  }
 ],
 "metadata": {
  "kernelspec": {
   "display_name": "Python 3 (ipykernel)",
   "language": "python",
   "name": "python3"
  },
  "language_info": {
   "codemirror_mode": {
    "name": "ipython",
    "version": 3
   },
   "file_extension": ".py",
   "mimetype": "text/x-python",
   "name": "python",
   "nbconvert_exporter": "python",
   "pygments_lexer": "ipython3",
   "version": "3.8.11"
  }
 },
 "nbformat": 4,
 "nbformat_minor": 5
}
