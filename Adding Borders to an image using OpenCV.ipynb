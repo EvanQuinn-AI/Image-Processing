{
 "cells": [
  {
   "cell_type": "code",
   "execution_count": null,
   "id": "c85f77ee",
   "metadata": {},
   "outputs": [],
   "source": [
    "#How to create a border for an image using opencv\n",
    "#with the help of cv2.copyMakeBorder() function.\n",
    "#it take parameters like(img,border_width*4,bordertype,val_brder)\n",
    "#border woidth = top,bottom,right,left\n",
    "import cv2\n",
    "import numpy as np\n",
    "\n",
    "\n",
    "img1 = cv2.imread(\"Data\\\\lion.jpg\")\n",
    "img1 = cv2.resize(img1,(1000,600))\n",
    "#creating image border \n",
    "brdr = cv2.copyMakeBorder(img1,10,10,5,5,cv2.BORDER_CONSTANT,value = [255,0,125])\n",
    "\n",
    "cv2.imshow(\"res\",brdr)\n",
    "cv2.waitKey(0)\n",
    "cv2.destroyAllWindows()"
   ]
  }
 ],
 "metadata": {
  "kernelspec": {
   "display_name": "Python 3 (ipykernel)",
   "language": "python",
   "name": "python3"
  },
  "language_info": {
   "codemirror_mode": {
    "name": "ipython",
    "version": 3
   },
   "file_extension": ".py",
   "mimetype": "text/x-python",
   "name": "python",
   "nbconvert_exporter": "python",
   "pygments_lexer": "ipython3",
   "version": "3.8.11"
  }
 },
 "nbformat": 4,
 "nbformat_minor": 5
}
