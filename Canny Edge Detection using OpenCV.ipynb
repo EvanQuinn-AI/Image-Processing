{
 "cells": [
  {
   "cell_type": "code",
   "execution_count": null,
   "id": "1a7a8c7d",
   "metadata": {},
   "outputs": [],
   "source": [
    "#Canny Edge Detection using OpenCV\n",
    "#Canny Edge Detection is a popular edge detection approach.\n",
    "#It is use  multi-stage algorithm to detect a edges.\n",
    "#It was developed by John F. Canny in 1986.\n",
    "#This approach combine with 5 steps.\n",
    "# 1) -  NOise reduction(gauss)), 2) -Gradient calculation( ,\n",
    "# 3) - Non-maximum suppresson, 4) - Double Threshold,\n",
    "# 5) - Edge Tracking by Hysteresis \n",
    "\n",
    "import cv2\n",
    "import numpy as np\n",
    "\"\"\"\n",
    "#load image into gray scale\n",
    "img = cv2.imread(\"Data\\\\building.jpg\")\n",
    "img = cv2.resize(img,(600,700))\n",
    "img_gray = cv2.cvtColor(img,cv2.COLOR_BGR2GRAY)\n",
    "\n",
    "#canny(img,thresh1,thres2)thresh 1 and thresh2 at different lvl\n",
    "canny = cv2.Canny(img_gray,20,150)\n",
    "\n",
    "cv2.imshow(\"original==\",img)\n",
    "cv2.imshow(\"gray====\",img_gray)\n",
    "cv2.imshow(\"canny==\",canny)\n",
    "cv2.waitKey(0)\n",
    "cv2.destroyAllWindows()\n",
    "\"\"\"\n",
    "\n",
    "\n",
    "\n",
    "#building trackbar with canny edge\n",
    "\n",
    "#load image into gray scale\n",
    "img = cv2.imread(\"Data\\\\building.jpg\")\n",
    "img = cv2.resize(img,(600,700))\n",
    "img_gray = cv2.cvtColor(img,cv2.COLOR_BGR2GRAY)\n",
    "\n",
    "def nothing(x):\n",
    "    pass\n",
    "\n",
    "cv2.namedWindow(\"Canny\")\n",
    "cv2.createTrackbar(\"Threshold\", \"Canny\", 0, 255, nothing)\n",
    "\n",
    "while True:\n",
    "    a= cv2.getTrackbarPos('Threshold','Canny')\n",
    "    \n",
    "    print(a)\n",
    "    res = cv2.Canny(img_gray,a,255)\n",
    "    cv2.imshow(\"Canny\",res)\n",
    "    k=cv2.waitKey(1) & 0xFF\n",
    "    if k == 27:\n",
    "        break\n",
    "\n",
    "cv2.destroyAllWindows()"
   ]
  }
 ],
 "metadata": {
  "kernelspec": {
   "display_name": "Python 3 (ipykernel)",
   "language": "python",
   "name": "python3"
  },
  "language_info": {
   "codemirror_mode": {
    "name": "ipython",
    "version": 3
   },
   "file_extension": ".py",
   "mimetype": "text/x-python",
   "name": "python",
   "nbconvert_exporter": "python",
   "pygments_lexer": "ipython3",
   "version": "3.8.11"
  }
 },
 "nbformat": 4,
 "nbformat_minor": 5
}
