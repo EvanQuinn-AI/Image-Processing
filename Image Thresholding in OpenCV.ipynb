{
 "cells": [
  {
   "cell_type": "code",
   "execution_count": null,
   "id": "47aab68a",
   "metadata": {},
   "outputs": [],
   "source": [
    "#Threholding is a segmentation techique which is use to separate selected object from an image.\n",
    "\n",
    "#Image Thresholding -  If pixel value is greater than a threshold value\n",
    "#it is assigned one value (may be white), \n",
    "#else it is assigned another value (may be black).\n",
    "#thresholding is use to subtract image from background\n",
    "#Thresholding is of  3 type -  Simple thresholding, Adaptive thresholding, Otsu’s thresholding\n",
    "#image should be in gray scale\n",
    "#simple thresholding(img,pixel_thresh,_max_thresh_pixel,style)\n",
    "#it return 2 values - one is random data , second is threshold\n",
    "\n",
    "\n",
    "\n",
    "import cv2 \n",
    "import numpy as np\n",
    "\n",
    "img = cv2.imread(\"Data\\\\black_white.png\",0)\n",
    "img = cv2.resize(img,(300,300))\n",
    "cv2.imshow(\"data\",img)\n",
    "\n",
    "_, th1 = cv2.threshold(img, 50, 255, cv2.THRESH_BINARY)\n",
    "_, th2 = cv2.threshold(img, 50, 255, cv2.THRESH_BINARY_INV)\n",
    "_, th3 = cv2.threshold(img, 127, 255, cv2.THRESH_TRUNC)\n",
    "_, th4 = cv2.threshold(img, 127, 255, cv2.THRESH_TOZERO)\n",
    "_, th5 = cv2.threshold(img, 127, 255, cv2.THRESH_TOZERO_INV)\n",
    "\n",
    "cv2.imshow(\"1 - THRESH_BINARY\",th1)\n",
    "cv2.imshow(\"2 -THRESH_BINARY_INV \", th2)\n",
    "cv2.imshow(\"3- THRESH_TRUNC\", th3)\n",
    "cv2.imshow(\"4 - THRESH_TOZERO\", th4)\n",
    "cv2.imshow(\"5 - THRESH_TOZERO_INV\", th5)\n",
    "cv2.waitKey(0)\n",
    "cv2.destroyAllWindows()\n"
   ]
  }
 ],
 "metadata": {
  "kernelspec": {
   "display_name": "Python 3 (ipykernel)",
   "language": "python",
   "name": "python3"
  },
  "language_info": {
   "codemirror_mode": {
    "name": "ipython",
    "version": 3
   },
   "file_extension": ".py",
   "mimetype": "text/x-python",
   "name": "python",
   "nbconvert_exporter": "python",
   "pygments_lexer": "ipython3",
   "version": "3.8.11"
  }
 },
 "nbformat": 4,
 "nbformat_minor": 5
}
