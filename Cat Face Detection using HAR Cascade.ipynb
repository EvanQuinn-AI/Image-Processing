{
 "cells": [
  {
   "cell_type": "code",
   "execution_count": null,
   "id": "34f5b0d2",
   "metadata": {},
   "outputs": [],
   "source": [
    "#Cat face detection using har cascade\n",
    "import cv2\n",
    "import numpy\n",
    "face=cv2.CascadeClassifier(\"Data\\\\cascades\\\\haarcascade_frontalcatface.xml\") #for detecting face\n",
    "\n",
    "image=cv2.imread(\"Data\\\\dogcat2.jpg\")\n",
    "gray= cv2.cvtColor(image,cv2.COLOR_BGR2GRAY) #convert into gray so color not effect accuracy\n",
    "\n",
    "#parameters(img,scale_factor[reduce image size],min_neighbour)\n",
    "faces = face.detectMultiScale(gray,1.1,1)   #for  faces\n",
    "\n",
    "for(x,y,w,h) in faces:\n",
    "    \n",
    "    image=cv2.rectangle(image,(x,y),(x+w,y+h),(127,0,205),3)\n",
    "    \n",
    "    \n",
    "    \n",
    "image = cv2.resize(image,(800,700))\n",
    "cv2.imshow(\"Face Detected\",image)\n",
    "cv2.waitKey(0)\n",
    "cv2.destroyAllWindows()    \n"
   ]
  }
 ],
 "metadata": {
  "kernelspec": {
   "display_name": "Python 3 (ipykernel)",
   "language": "python",
   "name": "python3"
  },
  "language_info": {
   "codemirror_mode": {
    "name": "ipython",
    "version": 3
   },
   "file_extension": ".py",
   "mimetype": "text/x-python",
   "name": "python",
   "nbconvert_exporter": "python",
   "pygments_lexer": "ipython3",
   "version": "3.8.11"
  }
 },
 "nbformat": 4,
 "nbformat_minor": 5
}
