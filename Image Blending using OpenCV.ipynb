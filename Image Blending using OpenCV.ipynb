{
 "cells": [
  {
   "cell_type": "code",
   "execution_count": null,
   "id": "a2b77b76",
   "metadata": {},
   "outputs": [],
   "source": [
    "#result Blending with Trackbars \n",
    "\n",
    "import numpy as np\n",
    "import cv2 as cv \n",
    "#read two different images of same channel\n",
    "img1 = cv.imread(\"Data\\\\roi_opr.jpg\")\n",
    "img1 = cv.resize(img1,(500,700))\n",
    "img2 = cv.imread(\"Data\\\\bro_thor.jpg\")\n",
    "img2 = cv.resize(img2,(500,700))\n",
    "    \n",
    "def blend(x):\n",
    "    pass\n",
    "\n",
    "img = np.zeros((400,400,3),np.uint8)\n",
    "cv.namedWindow('win') #create track bar windows\n",
    "cv.createTrackbar('alpha','win',1,100,blend)\n",
    "switch = '0 : OFF \\n 1 : ON'  #create switch for invoke the trackbars\n",
    "cv.createTrackbar(switch,'win',0,1,blend)  #create track bar for switch\n",
    "while(1):\n",
    "    alpha = cv.getTrackbarPos('alpha','win')\n",
    "   \n",
    "    s = cv.getTrackbarPos(switch,'win')\n",
    "    na = float(alpha/100)\n",
    "    \n",
    "    if s == 0:\n",
    "        dst = img[:]\n",
    "    else:\n",
    "        dst = cv.addWeighted(img1,1-na,img2,na,0)\n",
    "        cv.putText(dst, str(alpha), (20, 50), cv.FONT_ITALIC,\n",
    "                   2, (0, 125, 255), 2)\n",
    "    cv.imshow('dst',dst)\n",
    "\n",
    "    k=cv.waitKey(1) & 0xFF\n",
    "    if k == 27:\n",
    "        break\n",
    "    \n",
    "cv.waitKey(0)\n",
    "cv.destroyAllWindows()"
   ]
  }
 ],
 "metadata": {
  "kernelspec": {
   "display_name": "Python 3 (ipykernel)",
   "language": "python",
   "name": "python3"
  },
  "language_info": {
   "codemirror_mode": {
    "name": "ipython",
    "version": 3
   },
   "file_extension": ".py",
   "mimetype": "text/x-python",
   "name": "python",
   "nbconvert_exporter": "python",
   "pygments_lexer": "ipython3",
   "version": "3.8.11"
  }
 },
 "nbformat": 4,
 "nbformat_minor": 5
}
