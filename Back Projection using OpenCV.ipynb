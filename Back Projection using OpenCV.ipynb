{
 "cells": [
  {
   "cell_type": "code",
   "execution_count": null,
   "id": "8cd223e8",
   "metadata": {},
   "outputs": [],
   "source": [
    "#BackProjection using histogram technique\n",
    "\n",
    "import cv2\n",
    "import numpy as np\n",
    "\n",
    "\n",
    "original_image = cv2.imread(\"Data\\\\green.jpg\")\n",
    "original_image = cv2.resize(original_image,(600,650))\n",
    "hsv_original = cv2.cvtColor(original_image, cv2.COLOR_BGR2HSV)\n",
    "\n",
    "roi = cv2.imread(\"Data\\\\g.jpg\")\n",
    "hsv_roi = cv2.cvtColor(roi, cv2.COLOR_BGR2HSV)\n",
    "\n",
    "\n",
    "# Histogram ROI\n",
    "roi_hist = cv2.calcHist([hsv_roi], [0, 1], None, [180, 256], [0, 180, 0, 256])\n",
    "mask = cv2.calcBackProject([hsv_original], [0, 1], roi_hist, [0, 180, 0, 256], 1)\n",
    "\n",
    "# Filtering remove noise\n",
    "kernel = cv2.getStructuringElement(cv2.MORPH_ELLIPSE, (5, 5))\n",
    "mask = cv2.filter2D(mask, -1, kernel)\n",
    "_, mask = cv2.threshold(mask, 200, 255, cv2.THRESH_BINARY)\n",
    "\n",
    "mask = cv2.merge((mask, mask, mask))\n",
    "result = cv2.bitwise_or(original_image, mask)\n",
    "\n",
    "cv2.imshow(\"Mask\", mask)\n",
    "cv2.imshow(\"Original image\", original_image)\n",
    "cv2.imshow(\"Result\", result)\n",
    "cv2.imshow(\"Roi\", hsv_original)\n",
    "cv2.waitKey(0)\n",
    "cv2.destroyAllWindows()"
   ]
  }
 ],
 "metadata": {
  "kernelspec": {
   "display_name": "Python 3 (ipykernel)",
   "language": "python",
   "name": "python3"
  },
  "language_info": {
   "codemirror_mode": {
    "name": "ipython",
    "version": 3
   },
   "file_extension": ".py",
   "mimetype": "text/x-python",
   "name": "python",
   "nbconvert_exporter": "python",
   "pygments_lexer": "ipython3",
   "version": "3.8.11"
  }
 },
 "nbformat": 4,
 "nbformat_minor": 5
}
