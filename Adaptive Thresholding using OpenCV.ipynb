{
 "cells": [
  {
   "cell_type": "code",
   "execution_count": null,
   "id": "9eff17e0",
   "metadata": {},
   "outputs": [],
   "source": [
    "#Adaptive thresholding -\n",
    "#We use it beacuse simple thresholding not able to handle \n",
    "#different type of low luminous pixels\n",
    "# this, the algorithm calculate the threshold for a small regions of the image.\n",
    "#so we get multiple threshold for diff. regions in same image.\n",
    "\n",
    "#Adaptive Method - It decides how thresholding value is calculated.\n",
    "#cv2.ADAPTIVE_THRESH_MEAN_C : threshold value is the mean of neighbourhood area.\n",
    "#cv2.ADAPTIVE_THRESH_GAUSSIAN_C : threshold value is the weighted sum of neighbourhood values where weights are a gaussian window.\n",
    "\n",
    "\n",
    "#threshold (img,pixel_thresh,_max_thresh_pixel,method,style,no._of_pixel,contact_mean)\n",
    "import cv2 \n",
    "import numpy as np\n",
    "\n",
    "img = cv2.imread('Data\\\\page.jpg',0)\n",
    "img = cv2.resize(img,(400,400))\n",
    "_, th1 = cv2.threshold(img, 127, 255, cv2.THRESH_BINARY) #simple \n",
    "th2 = cv2.adaptiveThreshold(img, 255, cv2.ADAPTIVE_THRESH_MEAN_C, cv2.THRESH_BINARY, 11, 2) #adaptive\n",
    "th3 = cv2.adaptiveThreshold(img, 255, cv2.ADAPTIVE_THRESH_GAUSSIAN_C, cv2.THRESH_BINARY, 11, 2); #adaptive\n",
    "\n",
    "cv2.imshow(\"Image\", img)\n",
    "cv2.imshow(\"THRESH_BINARY\", th1)\n",
    "cv2.imshow(\"ADAPTIVE_THRESH_MEAN_C\", th2)\n",
    "cv2.imshow(\"ADAPTIVE_THRESH_GAUSSIAN_C\", th3)\n",
    "\n",
    "cv2.waitKey(0)\n",
    "cv2.destroyAllWindows()"
   ]
  }
 ],
 "metadata": {
  "kernelspec": {
   "display_name": "Python 3 (ipykernel)",
   "language": "python",
   "name": "python3"
  },
  "language_info": {
   "codemirror_mode": {
    "name": "ipython",
    "version": 3
   },
   "file_extension": ".py",
   "mimetype": "text/x-python",
   "name": "python",
   "nbconvert_exporter": "python",
   "pygments_lexer": "ipython3",
   "version": "3.8.11"
  }
 },
 "nbformat": 4,
 "nbformat_minor": 5
}
