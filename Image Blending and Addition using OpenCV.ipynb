{
 "cells": [
  {
   "cell_type": "code",
   "execution_count": null,
   "id": "8fc27d51",
   "metadata": {},
   "outputs": [],
   "source": [
    "#Image Blending with open cv \n",
    "#Here We use two important functions cv2.add(), cv2.addWeighted() etc.\n",
    "#Blending means addition of two images\n",
    "#if you want to blend two images then both have same size\n",
    "import cv2\n",
    "import numpy as np\n",
    "\n",
    "#read two different images of same channel\n",
    "img1 = cv2.imread(\"Data\\\\roi_opr.jpg\")\n",
    "img1 = cv2.resize(img1,(500,700))\n",
    "img2 = cv2.imread(\"Data\\\\bro_thor.jpg\")\n",
    "img2 = cv2.resize(img2,(500,700))\n",
    "cv2.imshow(\"thor==\",img1)\n",
    "cv2.imshow(\"bro_thor==\",img2)\n",
    "\n",
    "#Now perform blending\n",
    "result = img2+img1  #numpy addition in this we get module between value\n",
    "#recommended to use cv2.add\n",
    "result1 = cv2.add(img1,img2) #its your saturated oprn which means value to value\n",
    "\n",
    "#sum of both the weight  = w1+w2 = 1(max)\n",
    "#function cv2.addWeighted(img1,wt1,img2,wt2,gama_val)\n",
    "result2 = cv2.addWeighted(img1,0.7,img2,0.3,0)\n",
    "\n",
    "#cv2.imshow(\"result==\",result)\n",
    "#cv2.imshow(\"result1==\",result1)\n",
    "cv2.imshow(\"result2 = \",result2)\n",
    "\n",
    "cv2.waitKey(0)\n",
    "cv2.destroyAllWindows()"
   ]
  }
 ],
 "metadata": {
  "kernelspec": {
   "display_name": "Python 3 (ipykernel)",
   "language": "python",
   "name": "python3"
  },
  "language_info": {
   "codemirror_mode": {
    "name": "ipython",
    "version": 3
   },
   "file_extension": ".py",
   "mimetype": "text/x-python",
   "name": "python",
   "nbconvert_exporter": "python",
   "pygments_lexer": "ipython3",
   "version": "3.8.11"
  }
 },
 "nbformat": 4,
 "nbformat_minor": 5
}
