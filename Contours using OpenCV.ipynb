{
 "cells": [
  {
   "cell_type": "code",
   "execution_count": null,
   "id": "c0a19cf8",
   "metadata": {},
   "outputs": [],
   "source": [
    "#Contours - \n",
    "#Contours can be explained simply as a curve joining all the continuous points \n",
    "#(along the boundary), having same color or intensity. \n",
    "\n",
    "#The contours are a useful tool for shape analysis and object detection and recognition\n",
    "\n",
    "#For better accuracy, use binary images and also apply edge detection before \n",
    "#finding countours.\n",
    "\n",
    "#findCountour function manipulate original imge so copy it before proceeding.\n",
    "#findContour is like finding white object from black background.\n",
    "#so you must turn image in white and background is black.\n",
    "\n",
    "#We have to find and draw contours as per the requirement.\n",
    "\n",
    "import cv2\n",
    "import numpy as np\n",
    "img = cv2.imread(\"Data\\\\logo.jpg\")\n",
    "img1 = cv2.cvtColor(img,cv2.COLOR_BGR2GRAY)\n",
    "ret,thresh = cv2.threshold(img1,127,255,0)\n",
    "#findcontour(img,contour_retrival_mode,method)\n",
    "cnts,hier = cv2.findContours(thresh,cv2.RETR_TREE,cv2.CHAIN_APPROX_SIMPLE)\n",
    "#Here cnts is a list of contours. ANd each contour is an array with x, y cordinate   \n",
    "#hier variable called hierarchy and it contain image information.\n",
    "print(\"Number of contour==\",cnts,\"\\ntotal contour==\",len(cnts))\n",
    "print(\"Hierarchy==\\n\",hier)\n",
    "\n",
    "#drawcontour(img,cnts,id of contour,color,thickness)#here if we draw all\n",
    "#contour just pass -1\n",
    "#Draw the contours\n",
    "img = cv2.drawContours(img,cnts,-1,(176,10,15),4)\n",
    "\n",
    "\n",
    "#ouput----\n",
    "cv2.imshow(\"original===\",img)\n",
    "cv2.imshow(\"gray==\",img1)\n",
    "cv2.imshow(\"thresh==\",thresh)\n",
    "cv2.waitKey(0)\n",
    "cv2.destroyAllwindow()"
   ]
  }
 ],
 "metadata": {
  "kernelspec": {
   "display_name": "Python 3 (ipykernel)",
   "language": "python",
   "name": "python3"
  },
  "language_info": {
   "codemirror_mode": {
    "name": "ipython",
    "version": 3
   },
   "file_extension": ".py",
   "mimetype": "text/x-python",
   "name": "python",
   "nbconvert_exporter": "python",
   "pygments_lexer": "ipython3",
   "version": "3.8.11"
  }
 },
 "nbformat": 4,
 "nbformat_minor": 5
}
