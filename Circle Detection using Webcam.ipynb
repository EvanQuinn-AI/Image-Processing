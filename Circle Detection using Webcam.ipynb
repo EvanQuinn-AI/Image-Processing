{
 "cells": [
  {
   "cell_type": "code",
   "execution_count": null,
   "id": "6629c237",
   "metadata": {},
   "outputs": [],
   "source": [
    "#Circle detection using opencv and HoughCircle\n",
    "\n",
    "import numpy as np\n",
    "import cv2\n",
    "\"\"\"\n",
    "img = cv2.imread('Data\\\\col_balls.jpg')\n",
    "img2= img.copy()\n",
    "gray = cv2.cvtColor(img, cv2.COLOR_BGR2GRAY)\n",
    "gray = cv2.medianBlur(gray, 5)\n",
    "#parameters---(img,circle_method,dp,mindist,parm1,parm2[p1>p2],)\n",
    "circles = cv2.HoughCircles(gray, cv2.HOUGH_GRADIENT, 1, 20,\n",
    "                          param1=50, param2=30, minRadius=0,\n",
    "                          maxRadius=0)\n",
    "data = np.uint16(np.around(circles))\n",
    "for (x, y ,r) in data[0, :]:\n",
    "    cv2.circle(img2, (x, y), r, (50, 10, 50), 3) #outer circle\n",
    "    cv2.circle(img2, (x, y), 2, (0, 255, 100), -1) #center\n",
    "\n",
    "\n",
    "cv2.imshow('Result',img2)\n",
    "cv2.waitKey(0)\n",
    "cv2.destroyAllWindows()\n",
    "\"\"\"\n",
    "\n",
    "#Detect circle on webcam\n",
    "\n",
    "cap = cv2.VideoCapture(0,cv2.CAP_DSHOW)\n",
    "\n",
    "while True:\n",
    "    _,img = cap.read()\n",
    "    img2 = img.copy()\n",
    "    gray = cv2.cvtColor(img, cv2.COLOR_BGR2GRAY)\n",
    "    gray = cv2.medianBlur(gray, 5)\n",
    "    #parameters---(img,circle_method,dp,mindist,parm1,parm2[p1<p2],)\n",
    "    circles = cv2.HoughCircles(gray, cv2.HOUGH_GRADIENT, 1, 10,\n",
    "                              param1=50, param2=30, minRadius=0,\n",
    "                              maxRadius=0)\n",
    "    if circles is not None:\n",
    "        data = np.uint16(np.around(circles))\n",
    "        for (x, y ,r) in data[0, :]:\n",
    "            cv2.circle(img2, (x, y), r, (50, 10, 50), 3) #outer circle\n",
    "            cv2.circle(img2, (x, y), 2, (0, 255, 100), -1) #center\n",
    "    cv2.imshow(\"res\",img2)\n",
    "    if cv2.waitKey(25) & 0xFF == ord(\"q\"):\n",
    "        break\n",
    "    \n",
    "        \n",
    "        \n",
    "\n",
    "cap.release()\n",
    "cv2.destroyAllWindows()"
   ]
  }
 ],
 "metadata": {
  "kernelspec": {
   "display_name": "Python 3 (ipykernel)",
   "language": "python",
   "name": "python3"
  },
  "language_info": {
   "codemirror_mode": {
    "name": "ipython",
    "version": 3
   },
   "file_extension": ".py",
   "mimetype": "text/x-python",
   "name": "python",
   "nbconvert_exporter": "python",
   "pygments_lexer": "ipython3",
   "version": "3.8.11"
  }
 },
 "nbformat": 4,
 "nbformat_minor": 5
}
