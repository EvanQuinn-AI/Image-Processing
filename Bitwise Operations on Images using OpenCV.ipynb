{
 "cells": [
  {
   "cell_type": "code",
   "execution_count": null,
   "id": "6fd1bc17",
   "metadata": {},
   "outputs": [],
   "source": [
    "#Bitwise Operations includes AND, OR, NOT and XOR \n",
    "#It is most important and use for various purpose like masking\n",
    "#and find roi(region of intereset) which is in complex shape.\n",
    "\n",
    "import cv2\n",
    "import numpy as np\n",
    "\n",
    "img1 = np.zeros((250, 500, 3), np.uint8)\n",
    "img1 = cv2.rectangle(img1,(150, 100), (200, 250), (255, 255, 255), -1)\n",
    "img2 = np.zeros((250, 500, 3), np.uint8)\n",
    "img2 = cv2.rectangle(img2,(10, 10), (170, 190), (255, 255, 255), -1)\n",
    "\n",
    "bitAnd = cv2.bitwise_and(img2, img1)\n",
    "bitOr = cv2.bitwise_or(img2, img1)\n",
    "bitXor = cv2.bitwise_xor(img1, img2)\n",
    "bitNot1 = cv2.bitwise_not(img1)\n",
    "bitNot2 = cv2.bitwise_not(img2)\n",
    "\n",
    "cv2.imshow(\"img1\", img1)\n",
    "cv2.imshow(\"img2\", img2)\n",
    "\n",
    "#cv2.imshow('bitAnd', bitAnd)\n",
    "#cv2.imshow('bitOr', bitOr)\n",
    "#cv2.imshow('bitXor', bitXor)\n",
    "#cv2.imshow('bitNot1', bitNot1)\n",
    "#cv2.imshow('bitNot2', bitNot2)\n",
    "\n",
    "cv2.waitKey(0)\n",
    "cv2.destroyAllWindows()"
   ]
  }
 ],
 "metadata": {
  "kernelspec": {
   "display_name": "Python 3 (ipykernel)",
   "language": "python",
   "name": "python3"
  },
  "language_info": {
   "codemirror_mode": {
    "name": "ipython",
    "version": 3
   },
   "file_extension": ".py",
   "mimetype": "text/x-python",
   "name": "python",
   "nbconvert_exporter": "python",
   "pygments_lexer": "ipython3",
   "version": "3.8.11"
  }
 },
 "nbformat": 4,
 "nbformat_minor": 5
}
