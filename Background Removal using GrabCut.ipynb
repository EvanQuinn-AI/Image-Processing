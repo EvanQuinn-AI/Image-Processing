{
 "cells": [
  {
   "cell_type": "code",
   "execution_count": null,
   "id": "1c7adacf",
   "metadata": {},
   "outputs": [],
   "source": [
    "#GrabCut Algoritm with the help of this algoritm we easily\n",
    "#cutoff any foreground object from image or video.\n",
    "#It works like a rectangle portion mark on the image\n",
    "#and area outise the rectangle is treat as a extra part\n",
    "#so this algo remove it completely.\n",
    "#Gaussian mixtuere model help to achieve the target\n",
    "\n",
    "\n",
    "\n",
    "import\tnumpy  as  np\n",
    "import\tcv2\n",
    "\n",
    "img  =\tcv2.imread('Data\\\\car.jpg')\n",
    "img = cv2.resize(img,(800,800))\n",
    "mask =\tnp.zeros(img.shape[:2],np.uint8)\n",
    " \n",
    " \n",
    "bgdModel =  np.zeros((1,65),np.float64)*255\n",
    "fgdModel =  np.zeros((1,65),np.float64)*255\n",
    " \n",
    "#parameter(img,mask,rect,bgmodel,fgmodel,iter,method) \n",
    "rect =\t(134,150,660,730)\n",
    "cv2.grabCut(img,mask,rect,bgdModel,fgdModel,5,\n",
    "            cv2.GC_INIT_WITH_RECT)\n",
    " \n",
    " \n",
    "mask2  =  np.where((mask==2)|(mask==0),0,1).astype('uint8')\n",
    "img  =\timg*mask2[:,:,np.newaxis]\n",
    " \n",
    "cv2.imshow(\"res==\",img)\n",
    "cv2.waitKey(0)\n",
    "cv2.destroyAllWindows()"
   ]
  }
 ],
 "metadata": {
  "kernelspec": {
   "display_name": "Python 3 (ipykernel)",
   "language": "python",
   "name": "python3"
  },
  "language_info": {
   "codemirror_mode": {
    "name": "ipython",
    "version": 3
   },
   "file_extension": ".py",
   "mimetype": "text/x-python",
   "name": "python",
   "nbconvert_exporter": "python",
   "pygments_lexer": "ipython3",
   "version": "3.8.11"
  }
 },
 "nbformat": 4,
 "nbformat_minor": 5
}
