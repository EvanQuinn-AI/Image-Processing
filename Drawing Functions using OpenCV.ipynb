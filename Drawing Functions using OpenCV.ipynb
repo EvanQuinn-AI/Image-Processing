{
 "cells": [
  {
   "cell_type": "code",
   "execution_count": null,
   "id": "11348f6b",
   "metadata": {},
   "outputs": [],
   "source": [
    "import numpy as np\n",
    "import cv2\n",
    "\n",
    "\n",
    "img = cv2.imread(\"Data\\\\thor.jpg\")\n",
    "img = cv2.resize(img,(600,700))\n",
    "\n",
    "#Creating Blank Image---\n",
    "\n",
    "\n",
    "img = np.zeros([512, 512, 3], np.uint8)*255  #For white screen\n",
    "#img = np.ones([512,512,3], np.uint8)*255 #create window of an black screen\n",
    "\n",
    "#Here line accept 5 parameter (img,starting,ending,color,thickness)\n",
    "img = cv2.line(img, (0,0), (200,200), (154, 92, 424), 8) #color format BGR \n",
    "\n",
    "#arrowed line accept also accpet 5 parameter  (img,starting,ending,color,thickness) \n",
    "img = cv2.arrowedLine(img, (0,125), (255,255), (255, 0, 125), 10)\n",
    "\n",
    "#Rectangle - accept parameter(img,start_co,end_co,colot ,thickness)\n",
    "img = cv2.rectangle(img, (384, 10), (510, 128), (128, 0, 255), 8)\n",
    "\n",
    "#circle - accept(img,star_co,radius,color,thickness)\n",
    "img = cv2.circle(img, (447, 125), 63, (214, 255, 0), -5)\n",
    "\n",
    "font = cv2.FONT_ITALIC\n",
    "#puttext -accept(img,text,start_co,font,fontsize,color,thickness,linetype)\n",
    "img = cv2.putText(img, 'THOR', (20, 500), font, 4, (0, 125, 255), 10,cv2.LINE_AA)\n",
    "\n",
    "#ellipse-accept(img,start_cor,(length,height),color,thickness)\n",
    "img = cv2.ellipse(img,(400,600),(100,50),0,0,180,155,5)\n",
    "\n",
    "\n",
    "pts = np.array([[100,150],[200,30],[170,20],[50,10]], np.int32)\n",
    "pts = pts.reshape((-1,1,2))\n",
    "img = cv2.polylines(img,[pts],True,(0,255,155))\n",
    "\n",
    "cv2.imshow('image', img)\n",
    "\n",
    "cv2.waitKey(0)\n",
    "cv2.destroyAllWindows() \n"
   ]
  }
 ],
 "metadata": {
  "kernelspec": {
   "display_name": "Python 3 (ipykernel)",
   "language": "python",
   "name": "python3"
  },
  "language_info": {
   "codemirror_mode": {
    "name": "ipython",
    "version": 3
   },
   "file_extension": ".py",
   "mimetype": "text/x-python",
   "name": "python",
   "nbconvert_exporter": "python",
   "pygments_lexer": "ipython3",
   "version": "3.8.11"
  }
 },
 "nbformat": 4,
 "nbformat_minor": 5
}
